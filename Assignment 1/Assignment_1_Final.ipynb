{
  "cells": [
    {
      "cell_type": "code",
      "execution_count": 164,
      "metadata": {},
      "outputs": [],
      "source": [
        "import numpy as np\n",
        "import matplotlib.pyplot as plt\n",
        "from collections import deque\n",
        "import heapq\n",
        "import random "
      ]
    },
    {
      "cell_type": "code",
      "execution_count": 165,
      "metadata": {
        "id": "Y96waMbF7FH7"
      },
      "outputs": [],
      "source": [
        "class PriorityQueue:\n",
        "    def __init__(self):\n",
        "        self.elements = []\n",
        "\n",
        "    def empty(self):\n",
        "        return len(self.elements) == 0\n",
        "\n",
        "    def put(self, item, priority):\n",
        "        heapq.heappush(self.elements, (priority, item))\n",
        "\n",
        "    def get(self):\n",
        "        return heapq.heappop(self.elements)[1]\n"
      ]
    },
    {
      "cell_type": "code",
      "execution_count": 166,
      "metadata": {},
      "outputs": [],
      "source": [
        "\n",
        "class Node:\n",
        "    def __init__(self, state, parent=None, action=None, path_cost=0):\n",
        "        self.state = state  \n",
        "        self.parent = parent \n",
        "        self.action = action  \n",
        "        self.path_cost = path_cost  \n",
        "        \n",
        "\n",
        "    def __lt__(self, other):\n",
        "        return self.path_cost < other.path_cost\n"
      ]
    },
    {
      "cell_type": "code",
      "execution_count": 167,
      "metadata": {
        "id": "y3fN1KOV9oyA"
      },
      "outputs": [],
      "source": [
        "def heuristic(a, b):\n",
        "    (x1, y1) = a\n",
        "    (x2, y2) = b\n",
        "    return abs(x1 - x2) + abs(y1 - y2)\n"
      ]
    },
    {
      "cell_type": "code",
      "execution_count": 168,
      "metadata": {
        "id": "kaVLTi3K7HfU"
      },
      "outputs": [],
      "source": [
        "class Environment:\n",
        "    def __init__(self, size = 10, start=(0,0), goal=(9,9), percent = .2):\n",
        "        self.size = size\n",
        "        self.grid = [[0] * size for _ in range(size)]  # make empty grid \n",
        "        self.initial = start  # set the starting point which should be pass on constructor \n",
        "        self.goal = goal       # Set the goal point which should be pass on the constructor \n",
        "        self.generate_obstacles(int((size*size)*percent))  # add random obstacle\n",
        "\n",
        "        self.grid[start[0]][start[1]] = 0  \n",
        "        self.grid[goal[0]][goal[1]] = 0 \n",
        "\n",
        "\n",
        "    def generate_obstacles(self, amount):\n",
        "        for _ in range(amount):\n",
        "            x = random.randint(0, self.size-1)\n",
        "            y = random.randint(0, self.size-1)\n",
        "            self.grid[x][y] = 1\n",
        "\n",
        "    \n",
        "    def actions(self, state):\n",
        "        possible_actions = ['UP', 'DOWN', 'LEFT', 'RIGHT']\n",
        "        x, y = state\n",
        "\n",
        "        if x == 0 or self.grid[x - 1][y] == 1:\n",
        "            possible_actions.remove('UP')\n",
        "        if x == len(self.grid) - 1 or self.grid[x + 1][y] == 1:\n",
        "            possible_actions.remove('DOWN')\n",
        "        if y == 0 or self.grid[x][y - 1] == 1:\n",
        "            possible_actions.remove('LEFT')\n",
        "        if y == len(self.grid[0]) - 1 or self.grid[x][y + 1] == 1:\n",
        "            possible_actions.remove('RIGHT')\n",
        "\n",
        "        return possible_actions\n",
        "\n",
        "    def result(self, state, action):\n",
        "        x, y = state\n",
        "        if action == 'UP':\n",
        "            return (x - 1, y)\n",
        "        if action == 'DOWN':\n",
        "            return (x + 1, y)\n",
        "        if action == 'LEFT':\n",
        "            return (x, y - 1)\n",
        "        if action == 'RIGHT':\n",
        "            return (x, y + 1)\n",
        "\n",
        "    def is_goal(self, state):\n",
        "        return state == self.goal\n",
        "    # Visualization Function plots the grid and the found path.\n",
        "    def display(self):\n",
        "        grid_array = np.array(self.grid)  # Convert grid to numpy array for easy plotting.\n",
        "        fig, ax = plt.subplots()\n",
        "        ax.imshow(grid_array, cmap='Greys', alpha=0.3)  # Grid background.\n",
        "        \n",
        "        \n",
        "        ax.set_xticks(np.arange(-.5, len(self.grid[0]), 1), minor=True)\n",
        "        ax.set_yticks(np.arange(-.5, len(self.grid), 1), minor=True)\n",
        "        ax.grid(which=\"minor\", color=\"b\", linestyle='-', linewidth=1)\n",
        "        ax.tick_params(which=\"minor\", size=0)\n",
        "        ax.tick_params(which=\"major\", bottom=False, left=False, labelbottom=False, labelleft=False)\n",
        "        plt.show()\n",
        "    \n",
        "    def visualize_grid_and_path(self, path, Charge_station):\n",
        "        grid_array = np.array(self.grid)  # Convert grid to numpy array for easy plotting.\n",
        "        fig, ax = plt.subplots()\n",
        "        ax.imshow(grid_array, cmap='Greys', alpha=0.3)  # Grid background.\n",
        "        start = path[0]\n",
        "        goal = path[-1]\n",
        "\n",
        "        ax.plot(start[1], start[0], 'bs', markersize=10)  # Start position in blue.\n",
        "        ax.plot(goal[1], goal[0], 'rs', markersize=10)  # Goal position in green.\n",
        "\n",
        "        for charge in Charge_station:\n",
        "            ax.plot(charge[1], charge[0], \"ys\", markersize=10)\n",
        "\n",
        "        xs, ys = zip(*path)  # Extract X and Y coordinates of the path.\n",
        "        ax.plot(ys, xs, 'g', linewidth=2)  # Plot the path in red.\n",
        "        ax.set_xticks(np.arange(-.5, len(self.grid[0]), 1), minor=True)\n",
        "        ax.set_yticks(np.arange(-.5, len(self.grid), 1), minor=True)\n",
        "        ax.grid(which=\"minor\", color=\"b\", linestyle='-', linewidth=1)\n",
        "        ax.tick_params(which=\"minor\", size=0)\n",
        "        ax.tick_params(which=\"major\", bottom=False, left=False, labelbottom=False, labelleft=False)\n",
        "        plt.show()"
      ]
    },
    {
      "cell_type": "code",
      "execution_count": 169,
      "metadata": {},
      "outputs": [
        {
          "data": {
            "image/png": "[encoded data removed]",
            "text/plain": [
              "<Figure size 640x480 with 1 Axes>"
            ]
          },
          "metadata": {},
          "output_type": "display_data"
        }
      ],
      "source": [
        "grid_size = 10\n",
        "obstacle_probability = 0.2\n",
        "start = (0,0)\n",
        "goal = (grid_size-1,grid_size-1)\n",
        "environment = Environment(grid_size, start, goal, obstacle_probability)\n",
        "\n",
        "environment.display()"
      ]
    },
    {
      "cell_type": "code",
      "execution_count": 170,
      "metadata": {
        "id": "__odVpaW2fWB"
      },
      "outputs": [],
      "source": [
        "class Agent:\n",
        "    def __init__(self, env):\n",
        "        self.env = env\n",
        "\n",
        "    def uniform_cost_search(self):\n",
        "        frontier = PriorityQueue()  # Priority queue for UCS.\n",
        "        frontier.put(Node(self.env.initial, path_cost=0), 0)\n",
        "        came_from = {self.env.initial: None}\n",
        "        cost_so_far = {self.env.initial: 0}\n",
        "          \n",
        "\n",
        "        while not frontier.empty():\n",
        "            current_node = frontier.get()\n",
        "\n",
        "            if self.env.is_goal(current_node.state):\n",
        "                path = self.reconstruct_path(came_from, current_node.state)\n",
        "                charge_station = self.charging_points(path)\n",
        "                return path, charge_station\n",
        "            \n",
        "            for action in self.env.actions(current_node.state):\n",
        "                new_state = self.env.result(current_node.state, action)\n",
        "                new_cost = cost_so_far[current_node.state] + 1  # Assuming uniform cost for simplicity; adjust if varying costs.\n",
        "                if new_state not in cost_so_far or new_cost < cost_so_far[new_state]:\n",
        "                    cost_so_far[new_state] = new_cost\n",
        "                    \n",
        "                    priority = new_cost\n",
        "                    frontier.put(Node(new_state, current_node, action, new_cost), priority)\n",
        "                    came_from[new_state] = current_node.state\n",
        "\n",
        "        return []\n",
        "\n",
        "    def a_star_search(self):\n",
        "        start_node = Node(self.env.initial, path_cost=0)\n",
        "        frontier = PriorityQueue()\n",
        "        frontier.put(start_node, 0)  \n",
        "        came_from = {self.env.initial: None}  \n",
        "        cost_so_far = {self.env.initial: 0} \n",
        "        \n",
        "        while not frontier.empty():\n",
        "            current_node = frontier.get()\n",
        "\n",
        "            if self.env.is_goal(current_node.state):\n",
        "                path = self.reconstruct_path(came_from, current_node.state)\n",
        "                charge_station = self.charging_points(path)\n",
        "                return path, charge_station\n",
        "\n",
        "            for action in self.env.actions(current_node.state):\n",
        "                new_state = self.env.result(current_node.state, action)\n",
        "                new_cost = cost_so_far[current_node.state] + 1  \n",
        "                if new_state not in cost_so_far or new_cost < cost_so_far[new_state]:\n",
        "                    cost_so_far[new_state] = new_cost\n",
        "                    \n",
        "\n",
        "                    priority = new_cost + heuristic(new_state, self.env.goal)  # f-cost = g-cost + h-cost\n",
        "                    frontier.put(Node(new_state, current_node, action, new_cost), priority)\n",
        "                    came_from[new_state] = current_node.state\n",
        "\n",
        "        return [],[]\n",
        "\n",
        "    def reconstruct_path(self, came_from, current):\n",
        "        path = []\n",
        "        \n",
        "        while current in came_from:\n",
        "            path.append(current)\n",
        "            current = came_from[current]\n",
        "        \n",
        "        path.reverse()  # Reverse to get the path from start to goal\n",
        "        return path\n",
        "    \n",
        "    def charging_points(self, path):\n",
        "        charge = 100 \n",
        "        charge_station = []\n",
        "        for i in range(len(path)):\n",
        "            if i == 0: continue\n",
        "            else: \n",
        "                charge -= 10\n",
        "                if(charge == 0):\n",
        "                    charge_station.append(path[i])\n",
        "                    charge = 100\n",
        "        return charge_station\n",
        "\n",
        "\n"
      ]
    },
    {
      "cell_type": "code",
      "execution_count": 171,
      "metadata": {},
      "outputs": [],
      "source": [
        "agent = Agent(environment)\n"
      ]
    },
    {
      "cell_type": "code",
      "execution_count": 172,
      "metadata": {},
      "outputs": [
        {
          "name": "stdout",
          "output_type": "stream",
          "text": [
            "Path using A* Algorithm [(0, 0), (1, 0), (1, 1), (2, 1), (3, 1), (4, 1), (4, 2), (5, 2), (5, 3), (5, 4), (5, 5), (5, 6), (6, 6), (7, 6), (7, 7), (8, 7), (8, 8), (9, 8), (9, 9)]\n",
            "Charge station needed on this path [(5, 5)]\n"
          ]
        },
        {
          "data": {
            "image/png": "[encoded data removed]",
            "text/plain": [
              "<Figure size 640x480 with 1 Axes>"
            ]
          },
          "metadata": {},
          "output_type": "display_data"
        }
      ],
      "source": [
        "# Solve the problem with the A* algorithm\n",
        "a_star_path, charge_station = agent.a_star_search()\n",
        "if len(a_star_path):    \n",
        "    print(\"Path using A* Algorithm\",a_star_path)\n",
        "    print(\"Charge station needed on this path\",charge_station)\n",
        "    environment.visualize_grid_and_path(a_star_path, charge_station)\n",
        "else: \n",
        "    print(\"No possible path\")\n"
      ]
    },
    {
      "cell_type": "code",
      "execution_count": 173,
      "metadata": {},
      "outputs": [
        {
          "name": "stdout",
          "output_type": "stream",
          "text": [
            "path using ucs algorithm [(0, 0), (1, 0), (1, 1), (2, 1), (2, 2), (2, 3), (3, 3), (3, 4), (3, 5), (3, 6), (3, 7), (3, 8), (4, 8), (5, 8), (6, 8), (7, 8), (8, 8), (9, 8), (9, 9)]\n",
            "charging station needed on this path [(3, 7)]\n"
          ]
        },
        {
          "data": {
            "image/png": "[encoded data removed]",
            "text/plain": [
              "<Figure size 640x480 with 1 Axes>"
            ]
          },
          "metadata": {},
          "output_type": "display_data"
        }
      ],
      "source": [
        "# Solve the problem with the UCS algorithm\n",
        "ucs_path, ucs_charge_station = agent.uniform_cost_search()\n",
        "if len(ucs_path):\n",
        "    print(\"path using ucs algorithm\" , ucs_path)\n",
        "    print(\"charging station needed on this path\",ucs_charge_station)\n",
        "    environment.visualize_grid_and_path(ucs_path, ucs_charge_station)\n",
        "else: \n",
        "    print(\"No possible path\")\n"
      ]
    },
    {
      "cell_type": "code",
      "execution_count": 174,
      "metadata": {
        "colab": {
          "base_uri": "https://localhost:8080/"
        },
        "id": "pRa5M0gkcfcg",
        "outputId": "be76b37e-52b2-4e1b-8cdf-738b66c8300e"
      },
      "outputs": [
        {
          "name": "stdout",
          "output_type": "stream",
          "text": [
            "A Star Length : 19\n",
            "UCS Length : 19\n"
          ]
        }
      ],
      "source": [
        "print(\"A Star Length :\", len(a_star_path))\n",
        "print(\"UCS Length :\", len(ucs_path))"
      ]
    }
  ],
  "metadata": {
    "colab": {
      "provenance": []
    },
    "kernelspec": {
      "display_name": "Python 3",
      "name": "python3"
    },
    "language_info": {
      "codemirror_mode": {
        "name": "ipython",
        "version": 3
      },
      "file_extension": ".py",
      "mimetype": "text/x-python",
      "name": "python",
      "nbconvert_exporter": "python",
      "pygments_lexer": "ipython3",
      "version": "3.10.11"
    }
  },
  "nbformat": 4,
  "nbformat_minor": 0
}
